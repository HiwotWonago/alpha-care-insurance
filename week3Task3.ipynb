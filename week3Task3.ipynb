{
 "cells": [
  {
   "cell_type": "code",
   "execution_count": 2,
   "id": "dbf37ed7",
   "metadata": {},
   "outputs": [],
   "source": [
    "import pandas as pd\n",
    "from scipy.stats import chi2_contingency, ttest_ind"
   ]
  },
  {
   "cell_type": "code",
   "execution_count": 6,
   "id": "b500b5c2",
   "metadata": {},
   "outputs": [
    {
     "name": "stderr",
     "output_type": "stream",
     "text": [
      "C:\\Users\\Hiwi\\AppData\\Local\\Temp\\ipykernel_9928\\758956908.py:1: DtypeWarning: Columns (32,37) have mixed types. Specify dtype option on import or set low_memory=False.\n",
      "  df = pd.read_csv('C:\\\\Users\\\\Hiwi\\\\Documents\\\\week3\\\\alpha-care-insurance\\\\data\\\\raw\\\\MachineLearningRating_v3.txt', sep='|', dtype={'PostalCode': str})\n"
     ]
    }
   ],
   "source": [
    "df = pd.read_csv('C:\\\\Users\\\\Hiwi\\\\Documents\\\\week3\\\\alpha-care-insurance\\\\data\\\\raw\\\\MachineLearningRating_v3.txt', sep='|', dtype={'PostalCode': str})"
   ]
  },
  {
   "cell_type": "code",
   "execution_count": 7,
   "id": "0def745d",
   "metadata": {},
   "outputs": [],
   "source": [
    "df['HasClaim'] = df['TotalClaims'] > 0\n",
    "df['Margin'] = df['TotalPremium'] - df['TotalClaims']"
   ]
  },
  {
   "cell_type": "code",
   "execution_count": 8,
   "id": "194465db",
   "metadata": {},
   "outputs": [
    {
     "name": "stdout",
     "output_type": "stream",
     "text": [
      "Claim Frequency by Gender - p-value: 0.0266\n"
     ]
    }
   ],
   "source": [
    "freq_gender = pd.crosstab(df['Gender'], df['HasClaim'])\n",
    "chi2, p_freq_gender, _, _ = chi2_contingency(freq_gender)\n",
    "print(f\"Claim Frequency by Gender - p-value: {p_freq_gender:.4f}\")"
   ]
  },
  {
   "cell_type": "code",
   "execution_count": 9,
   "id": "be36d764",
   "metadata": {},
   "outputs": [
    {
     "name": "stdout",
     "output_type": "stream",
     "text": [
      "Claim Severity by Gender - p-value: 0.5680\n"
     ]
    }
   ],
   "source": [
    "# ---- 2. Claim Severity Test by Gender ----\n",
    "claims_female = df[(df['Gender'] == 'Female') & (df['TotalClaims'] > 0)]['TotalClaims']\n",
    "claims_male = df[(df['Gender'] == 'Male') & (df['TotalClaims'] > 0)]['TotalClaims']\n",
    "t_stat, p_severity_gender = ttest_ind(claims_female, claims_male, equal_var=False)\n",
    "print(f\"Claim Severity by Gender - p-value: {p_severity_gender:.4f}\")"
   ]
  },
  {
   "cell_type": "code",
   "execution_count": 10,
   "id": "e47f52c9",
   "metadata": {},
   "outputs": [],
   "source": [
    "# Select two provinces for A/B testing\n",
    "province_A = 'Gauteng'\n",
    "province_B = 'Western Cape'\n",
    "\n",
    "# Filter data\n",
    "df_AB = df[df['Province'].isin([province_A, province_B])]\n"
   ]
  },
  {
   "cell_type": "code",
   "execution_count": 11,
   "id": "b4da436e",
   "metadata": {},
   "outputs": [
    {
     "name": "stdout",
     "output_type": "stream",
     "text": [
      "✅ Claim Frequency p-value between Gauteng and Western Cape: 0.0000\n",
      "✅ Claim Severity p-value between Gauteng and Western Cape: 0.0306\n"
     ]
    }
   ],
   "source": [
    "# ---- 1. Claim Frequency Test (Chi-squared) ----\n",
    "freq_table = pd.crosstab(df_AB['Province'], df_AB['HasClaim'])\n",
    "chi2, p_freq, _, _ = chi2_contingency(freq_table)\n",
    "print(f\"✅ Claim Frequency p-value between {province_A} and {province_B}: {p_freq:.4f}\")\n",
    "\n",
    "# ---- 2. Claim Severity Test (T-test) ----\n",
    "# Only include rows where claims occurred\n",
    "severity_A = df_AB[(df_AB['Province'] == province_A) & (df_AB['TotalClaims'] > 0)]['TotalClaims']\n",
    "severity_B = df_AB[(df_AB['Province'] == province_B) & (df_AB['TotalClaims'] > 0)]['TotalClaims']\n",
    "\n",
    "t_stat, p_severity = ttest_ind(severity_A, severity_B, equal_var=False)\n",
    "print(f\"✅ Claim Severity p-value between {province_A} and {province_B}: {p_severity:.4f}\")"
   ]
  },
  {
   "cell_type": "code",
   "execution_count": 12,
   "id": "a295c0d6",
   "metadata": {},
   "outputs": [
    {
     "name": "stdout",
     "output_type": "stream",
     "text": [
      "✅ Margin p-value between Gauteng and Western Cape: 0.1636\n"
     ]
    }
   ],
   "source": [
    "# Margin test between provinces\n",
    "margin_A = df_AB[df_AB['Province'] == province_A]['Margin']\n",
    "margin_B = df_AB[df_AB['Province'] == province_B]['Margin']\n",
    "\n",
    "t_stat, p_margin = ttest_ind(margin_A, margin_B, equal_var=False)\n",
    "print(f\"✅ Margin p-value between {province_A} and {province_B}: {p_margin:.4f}\")"
   ]
  },
  {
   "cell_type": "code",
   "execution_count": 13,
   "id": "9656a142",
   "metadata": {},
   "outputs": [
    {
     "name": "stdout",
     "output_type": "stream",
     "text": [
      "✅ Claim Frequency by Gender - p-value: 0.0266\n"
     ]
    }
   ],
   "source": [
    "# ---- 1. Claim Frequency Test (Chi-squared) Gender----\n",
    "freq_table_gender = pd.crosstab(df['Gender'], df['HasClaim'])\n",
    "chi2, p_freq_gender, _, _ = chi2_contingency(freq_table_gender)\n",
    "print(f\"✅ Claim Frequency by Gender - p-value: {p_freq_gender:.4f}\")"
   ]
  },
  {
   "cell_type": "code",
   "execution_count": 15,
   "id": "e8ba6c06",
   "metadata": {},
   "outputs": [
    {
     "name": "stdout",
     "output_type": "stream",
     "text": [
      "✅ Claim Severity by Gender - p-value: 0.5680\n"
     ]
    }
   ],
   "source": [
    "# ---- 2. Claim Severity Test (T-test) ----\n",
    "severity_female = df[(df['Gender'] == 'Female') & (df['TotalClaims'] > 0)]['TotalClaims']\n",
    "severity_male = df[(df['Gender'] == 'Male') & (df['TotalClaims'] > 0)]['TotalClaims']\n",
    "t_stat, p_severity_gender = ttest_ind(severity_female, severity_male, equal_var=False)\n",
    "print(f\"✅ Claim Severity by Gender - p-value: {p_severity_gender:.4f}\")"
   ]
  },
  {
   "cell_type": "code",
   "execution_count": 16,
   "id": "3ad65a03",
   "metadata": {},
   "outputs": [
    {
     "name": "stdout",
     "output_type": "stream",
     "text": [
      "✅ Margin by Gender - p-value: 0.8015\n"
     ]
    }
   ],
   "source": [
    "# ---- 3. Margin Difference (T-test) ----\n",
    "margin_female = df[df['Gender'] == 'Female']['Margin']\n",
    "margin_male = df[df['Gender'] == 'Male']['Margin']\n",
    "\n",
    "t_stat, p_margin_gender = ttest_ind(margin_female, margin_male, equal_var=False)\n",
    "print(f\"✅ Margin by Gender - p-value: {p_margin_gender:.4f}\")"
   ]
  },
  {
   "cell_type": "code",
   "execution_count": null,
   "id": "9774b56b",
   "metadata": {},
   "outputs": [],
   "source": []
  }
 ],
 "metadata": {
  "kernelspec": {
   "display_name": "Python 3 (ipykernel)",
   "language": "python",
   "name": "python3"
  },
  "language_info": {
   "codemirror_mode": {
    "name": "ipython",
    "version": 3
   },
   "file_extension": ".py",
   "mimetype": "text/x-python",
   "name": "python",
   "nbconvert_exporter": "python",
   "pygments_lexer": "ipython3",
   "version": "3.11.5"
  }
 },
 "nbformat": 4,
 "nbformat_minor": 5
}
